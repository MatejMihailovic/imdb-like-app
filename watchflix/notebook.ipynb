{
 "cells": [
  {
   "cell_type": "code",
   "execution_count": 23,
   "metadata": {},
   "outputs": [],
   "source": [
    "import pandas as pd"
   ]
  },
  {
   "cell_type": "code",
   "execution_count": 24,
   "metadata": {},
   "outputs": [],
   "source": [
    "movies = pd.read_csv('data/movies.csv', sep=',')\n",
    "ratings = pd.read_csv('data/ratings.csv', sep=',', nrows=10000000)\n",
    "links = pd.read_csv('data/links.csv', sep=',')\n",
    "movies_with_plots = pd.read_csv('data/mpst_full_data.csv', sep=',')"
   ]
  },
  {
   "cell_type": "code",
   "execution_count": 25,
   "metadata": {},
   "outputs": [],
   "source": [
    "movies_with_plots.rename(columns={\"imdb_id\": \"imdbId\"}, inplace=True)\n",
    "\n",
    "user_ids = ratings['userId'].unique()\n",
    "user2idx = {user_id: i for i, user_id in enumerate(user_ids)}\n",
    "movie_ids = ratings['movieId'].unique()\n",
    "movie2idx = {movie_id: i for i, movie_id in enumerate(movie_ids)}\n",
    "\n",
    "ratings['userId'] = ratings['userId'].map(user2idx)\n",
    "ratings['movieId'] = ratings['movieId'].map(movie2idx)\n",
    "\n",
    "# Filter movies with at least 10 votes\n",
    "movie_counts = ratings.groupby('movieId')['userId'].count()\n",
    "popular_movies = movie_counts[movie_counts >= 10].index\n",
    "ratings_filtered = ratings[ratings['movieId'].isin(popular_movies)].copy()\n",
    "\n",
    "# Filter users who have rated at least 50 movies\n",
    "user_counts = ratings_filtered.groupby('userId')['movieId'].count()\n",
    "active_users = user_counts[user_counts >= 50].index\n",
    "ratings_filtered = ratings_filtered[ratings_filtered['userId'].isin(active_users)].copy()\n",
    "\n",
    "movies_filtered = movies[movies['movieId'].isin(popular_movies)].copy()\n",
    "links_filtered = links[links['movieId'].isin(popular_movies)].copy()\n",
    "\n",
    "# Ensure 'imdbId' follows the correct formatting (prefix with 'tt' and zero-padding to 7 digits)\n",
    "links_filtered['imdbId'] = 'tt' + links_filtered['imdbId'].astype(str).str.zfill(7)\n",
    "\n",
    "movies_merged = pd.merge(links_filtered, movies_with_plots, on='imdbId', how='left')\n",
    "\n",
    "movies_merged.drop(columns=['split', 'synopsis_source', 'imdbId', 'tmdbId'], inplace=True)\n",
    "\n",
    "# Extract year from the title in movies_filtered and append to movies_merged\n",
    "movies_filtered['year'] = movies_filtered['title'].str.extract(r'\\((\\d{4})\\)')\n",
    "\n",
    "movies_merged = pd.merge(movies_merged, movies_filtered[['movieId', 'year', 'genres']], on='movieId', how='left')\n",
    "\n",
    "movies_merged.dropna(inplace=True)\n",
    "\n",
    "# Filter ratings based on available movies in the merged DataFrame\n",
    "ratings_filtered = ratings_filtered[ratings_filtered['movieId'].isin(movies_merged['movieId'])].copy()"
   ]
  },
  {
   "cell_type": "code",
   "execution_count": 26,
   "metadata": {},
   "outputs": [
    {
     "data": {
      "text/html": [
       "<div>\n",
       "<style scoped>\n",
       "    .dataframe tbody tr th:only-of-type {\n",
       "        vertical-align: middle;\n",
       "    }\n",
       "\n",
       "    .dataframe tbody tr th {\n",
       "        vertical-align: top;\n",
       "    }\n",
       "\n",
       "    .dataframe thead th {\n",
       "        text-align: right;\n",
       "    }\n",
       "</style>\n",
       "<table border=\"1\" class=\"dataframe\">\n",
       "  <thead>\n",
       "    <tr style=\"text-align: right;\">\n",
       "      <th></th>\n",
       "      <th>movieId</th>\n",
       "      <th>title</th>\n",
       "      <th>plot_synopsis</th>\n",
       "      <th>tags</th>\n",
       "      <th>year</th>\n",
       "      <th>genres</th>\n",
       "    </tr>\n",
       "  </thead>\n",
       "  <tbody>\n",
       "    <tr>\n",
       "      <th>0</th>\n",
       "      <td>1</td>\n",
       "      <td>Toy Story</td>\n",
       "      <td>A boy called Andy Davis (voice: John Morris) u...</td>\n",
       "      <td>comedy, fantasy, cult, cute, violence, clever,...</td>\n",
       "      <td>1995</td>\n",
       "      <td>Adventure|Animation|Children|Comedy|Fantasy</td>\n",
       "    </tr>\n",
       "    <tr>\n",
       "      <th>1</th>\n",
       "      <td>2</td>\n",
       "      <td>Jumanji</td>\n",
       "      <td>The film begins in 1869 in the town of Brantfo...</td>\n",
       "      <td>psychedelic, fantasy</td>\n",
       "      <td>1995</td>\n",
       "      <td>Adventure|Children|Fantasy</td>\n",
       "    </tr>\n",
       "    <tr>\n",
       "      <th>2</th>\n",
       "      <td>3</td>\n",
       "      <td>Grumpier Old Men</td>\n",
       "      <td>The feud between Max (Walter Matthau) and John...</td>\n",
       "      <td>revenge, comedy, prank</td>\n",
       "      <td>1995</td>\n",
       "      <td>Comedy|Romance</td>\n",
       "    </tr>\n",
       "    <tr>\n",
       "      <th>3</th>\n",
       "      <td>4</td>\n",
       "      <td>Waiting to Exhale</td>\n",
       "      <td>\"Friends are the People who let you be yoursel...</td>\n",
       "      <td>revenge</td>\n",
       "      <td>1995</td>\n",
       "      <td>Comedy|Drama|Romance</td>\n",
       "    </tr>\n",
       "    <tr>\n",
       "      <th>4</th>\n",
       "      <td>5</td>\n",
       "      <td>Father of the Bride Part II</td>\n",
       "      <td>The film begins five years after the events of...</td>\n",
       "      <td>romantic, comedy, fantasy, sentimental</td>\n",
       "      <td>1995</td>\n",
       "      <td>Comedy</td>\n",
       "    </tr>\n",
       "  </tbody>\n",
       "</table>\n",
       "</div>"
      ],
      "text/plain": [
       "   movieId                        title  \\\n",
       "0        1                    Toy Story   \n",
       "1        2                      Jumanji   \n",
       "2        3             Grumpier Old Men   \n",
       "3        4            Waiting to Exhale   \n",
       "4        5  Father of the Bride Part II   \n",
       "\n",
       "                                       plot_synopsis  \\\n",
       "0  A boy called Andy Davis (voice: John Morris) u...   \n",
       "1  The film begins in 1869 in the town of Brantfo...   \n",
       "2  The feud between Max (Walter Matthau) and John...   \n",
       "3  \"Friends are the People who let you be yoursel...   \n",
       "4  The film begins five years after the events of...   \n",
       "\n",
       "                                                tags  year  \\\n",
       "0  comedy, fantasy, cult, cute, violence, clever,...  1995   \n",
       "1                               psychedelic, fantasy  1995   \n",
       "2                             revenge, comedy, prank  1995   \n",
       "3                                            revenge  1995   \n",
       "4             romantic, comedy, fantasy, sentimental  1995   \n",
       "\n",
       "                                        genres  \n",
       "0  Adventure|Animation|Children|Comedy|Fantasy  \n",
       "1                   Adventure|Children|Fantasy  \n",
       "2                               Comedy|Romance  \n",
       "3                         Comedy|Drama|Romance  \n",
       "4                                       Comedy  "
      ]
     },
     "execution_count": 26,
     "metadata": {},
     "output_type": "execute_result"
    }
   ],
   "source": [
    "movies_merged.head()"
   ]
  },
  {
   "cell_type": "code",
   "execution_count": 27,
   "metadata": {},
   "outputs": [
    {
     "name": "stdout",
     "output_type": "stream",
     "text": [
      "6503\n"
     ]
    }
   ],
   "source": [
    "print(ratings['userId'].nunique())"
   ]
  },
  {
   "cell_type": "code",
   "execution_count": 28,
   "metadata": {},
   "outputs": [
    {
     "data": {
      "text/plain": [
       "(495099, 4)"
      ]
     },
     "execution_count": 28,
     "metadata": {},
     "output_type": "execute_result"
    }
   ],
   "source": [
    "ratings_filtered.shape"
   ]
  },
  {
   "cell_type": "code",
   "execution_count": 34,
   "metadata": {},
   "outputs": [
    {
     "name": "stdout",
     "output_type": "stream",
     "text": [
      "Toy Story (1995)\n"
     ]
    }
   ],
   "source": [
    "plot_synopsis = movies[movies['movieId'] == 1].title.values[0]\n",
    "\n",
    "print(plot_synopsis)"
   ]
  },
  {
   "cell_type": "code",
   "execution_count": 35,
   "metadata": {},
   "outputs": [
    {
     "data": {
      "text/plain": [
       "1"
      ]
     },
     "execution_count": 35,
     "metadata": {},
     "output_type": "execute_result"
    }
   ],
   "source": [
    "color = {'one': 1, \n",
    "         'two': 2\n",
    "         }"
   ]
  }
 ],
 "metadata": {
  "kernelspec": {
   "display_name": "Python 3",
   "language": "python",
   "name": "python3"
  },
  "language_info": {
   "codemirror_mode": {
    "name": "ipython",
    "version": 3
   },
   "file_extension": ".py",
   "mimetype": "text/x-python",
   "name": "python",
   "nbconvert_exporter": "python",
   "pygments_lexer": "ipython3",
   "version": "3.12.3"
  }
 },
 "nbformat": 4,
 "nbformat_minor": 2
}
